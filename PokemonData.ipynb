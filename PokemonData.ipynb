{
 "cells": [
  {
   "cell_type": "code",
   "execution_count": 14,
   "metadata": {
    "collapsed": true
   },
   "outputs": [],
   "source": [
    "#1. Import the neccessary libraries\n",
    "import pandas as pd\n",
    "import numpy as np"
   ]
  },
  {
   "cell_type": "code",
   "execution_count": 15,
   "outputs": [],
   "source": [
    "#Run in Terminal = conda install -c conda-forge fsspec\n",
    "#2. Import the Pokemon dataset available at https://www.kaggle.com/alopez247/pokemon\n",
    "pokemon = pd.read_csv(\"C://Users//Calum//Documents//University//YEAR3//Term1//FundamentalsOfDataAnalytics//Week5//DataAndPandas//files//pokemon_alopez247.csv\")\n"
   ],
   "metadata": {
    "collapsed": false,
    "pycharm": {
     "name": "#%%\n"
    }
   }
  },
  {
   "cell_type": "code",
   "execution_count": 16,
   "outputs": [
    {
     "data": {
      "text/plain": "   Number        Name Type_1  Type_2  Total  HP  Attack  Defense  Sp_Atk  \\\n0       1   Bulbasaur  Grass  Poison    318  45      49       49      65   \n1       2     Ivysaur  Grass  Poison    405  60      62       63      80   \n2       3    Venusaur  Grass  Poison    525  80      82       83     100   \n3       4  Charmander   Fire     NaN    309  39      52       43      60   \n4       5  Charmeleon   Fire     NaN    405  58      64       58      80   \n5       6   Charizard   Fire  Flying    534  78      84       78     109   \n6       7    Squirtle  Water     NaN    314  44      48       65      50   \n7       8   Wartortle  Water     NaN    405  59      63       80      65   \n8       9   Blastoise  Water     NaN    530  79      83      100      85   \n9      10    Caterpie    Bug     NaN    195  45      30       35      20   \n\n   Sp_Def  ...  Color  hasGender  Pr_Male Egg_Group_1  Egg_Group_2  \\\n0      65  ...  Green       True    0.875     Monster        Grass   \n1      80  ...  Green       True    0.875     Monster        Grass   \n2     100  ...  Green       True    0.875     Monster        Grass   \n3      50  ...    Red       True    0.875     Monster       Dragon   \n4      65  ...    Red       True    0.875     Monster       Dragon   \n5      85  ...    Red       True    0.875     Monster       Dragon   \n6      64  ...   Blue       True    0.875     Monster      Water_1   \n7      80  ...   Blue       True    0.875     Monster      Water_1   \n8     105  ...   Blue       True    0.875     Monster      Water_1   \n9      20  ...  Green       True    0.500         Bug          NaN   \n\n   hasMegaEvolution Height_m Weight_kg  Catch_Rate      Body_Style  \n0             False     0.71       6.9          45       quadruped  \n1             False     0.99      13.0          45       quadruped  \n2              True     2.01     100.0          45       quadruped  \n3             False     0.61       8.5          45  bipedal_tailed  \n4             False     1.09      19.0          45  bipedal_tailed  \n5              True     1.70      90.5          45  bipedal_tailed  \n6             False     0.51       9.0          45  bipedal_tailed  \n7             False     0.99      22.5          45  bipedal_tailed  \n8              True     1.60      85.5          45  bipedal_tailed  \n9             False     0.30       2.9         255       insectoid  \n\n[10 rows x 23 columns]",
      "text/html": "<div>\n<style scoped>\n    .dataframe tbody tr th:only-of-type {\n        vertical-align: middle;\n    }\n\n    .dataframe tbody tr th {\n        vertical-align: top;\n    }\n\n    .dataframe thead th {\n        text-align: right;\n    }\n</style>\n<table border=\"1\" class=\"dataframe\">\n  <thead>\n    <tr style=\"text-align: right;\">\n      <th></th>\n      <th>Number</th>\n      <th>Name</th>\n      <th>Type_1</th>\n      <th>Type_2</th>\n      <th>Total</th>\n      <th>HP</th>\n      <th>Attack</th>\n      <th>Defense</th>\n      <th>Sp_Atk</th>\n      <th>Sp_Def</th>\n      <th>...</th>\n      <th>Color</th>\n      <th>hasGender</th>\n      <th>Pr_Male</th>\n      <th>Egg_Group_1</th>\n      <th>Egg_Group_2</th>\n      <th>hasMegaEvolution</th>\n      <th>Height_m</th>\n      <th>Weight_kg</th>\n      <th>Catch_Rate</th>\n      <th>Body_Style</th>\n    </tr>\n  </thead>\n  <tbody>\n    <tr>\n      <th>0</th>\n      <td>1</td>\n      <td>Bulbasaur</td>\n      <td>Grass</td>\n      <td>Poison</td>\n      <td>318</td>\n      <td>45</td>\n      <td>49</td>\n      <td>49</td>\n      <td>65</td>\n      <td>65</td>\n      <td>...</td>\n      <td>Green</td>\n      <td>True</td>\n      <td>0.875</td>\n      <td>Monster</td>\n      <td>Grass</td>\n      <td>False</td>\n      <td>0.71</td>\n      <td>6.9</td>\n      <td>45</td>\n      <td>quadruped</td>\n    </tr>\n    <tr>\n      <th>1</th>\n      <td>2</td>\n      <td>Ivysaur</td>\n      <td>Grass</td>\n      <td>Poison</td>\n      <td>405</td>\n      <td>60</td>\n      <td>62</td>\n      <td>63</td>\n      <td>80</td>\n      <td>80</td>\n      <td>...</td>\n      <td>Green</td>\n      <td>True</td>\n      <td>0.875</td>\n      <td>Monster</td>\n      <td>Grass</td>\n      <td>False</td>\n      <td>0.99</td>\n      <td>13.0</td>\n      <td>45</td>\n      <td>quadruped</td>\n    </tr>\n    <tr>\n      <th>2</th>\n      <td>3</td>\n      <td>Venusaur</td>\n      <td>Grass</td>\n      <td>Poison</td>\n      <td>525</td>\n      <td>80</td>\n      <td>82</td>\n      <td>83</td>\n      <td>100</td>\n      <td>100</td>\n      <td>...</td>\n      <td>Green</td>\n      <td>True</td>\n      <td>0.875</td>\n      <td>Monster</td>\n      <td>Grass</td>\n      <td>True</td>\n      <td>2.01</td>\n      <td>100.0</td>\n      <td>45</td>\n      <td>quadruped</td>\n    </tr>\n    <tr>\n      <th>3</th>\n      <td>4</td>\n      <td>Charmander</td>\n      <td>Fire</td>\n      <td>NaN</td>\n      <td>309</td>\n      <td>39</td>\n      <td>52</td>\n      <td>43</td>\n      <td>60</td>\n      <td>50</td>\n      <td>...</td>\n      <td>Red</td>\n      <td>True</td>\n      <td>0.875</td>\n      <td>Monster</td>\n      <td>Dragon</td>\n      <td>False</td>\n      <td>0.61</td>\n      <td>8.5</td>\n      <td>45</td>\n      <td>bipedal_tailed</td>\n    </tr>\n    <tr>\n      <th>4</th>\n      <td>5</td>\n      <td>Charmeleon</td>\n      <td>Fire</td>\n      <td>NaN</td>\n      <td>405</td>\n      <td>58</td>\n      <td>64</td>\n      <td>58</td>\n      <td>80</td>\n      <td>65</td>\n      <td>...</td>\n      <td>Red</td>\n      <td>True</td>\n      <td>0.875</td>\n      <td>Monster</td>\n      <td>Dragon</td>\n      <td>False</td>\n      <td>1.09</td>\n      <td>19.0</td>\n      <td>45</td>\n      <td>bipedal_tailed</td>\n    </tr>\n    <tr>\n      <th>5</th>\n      <td>6</td>\n      <td>Charizard</td>\n      <td>Fire</td>\n      <td>Flying</td>\n      <td>534</td>\n      <td>78</td>\n      <td>84</td>\n      <td>78</td>\n      <td>109</td>\n      <td>85</td>\n      <td>...</td>\n      <td>Red</td>\n      <td>True</td>\n      <td>0.875</td>\n      <td>Monster</td>\n      <td>Dragon</td>\n      <td>True</td>\n      <td>1.70</td>\n      <td>90.5</td>\n      <td>45</td>\n      <td>bipedal_tailed</td>\n    </tr>\n    <tr>\n      <th>6</th>\n      <td>7</td>\n      <td>Squirtle</td>\n      <td>Water</td>\n      <td>NaN</td>\n      <td>314</td>\n      <td>44</td>\n      <td>48</td>\n      <td>65</td>\n      <td>50</td>\n      <td>64</td>\n      <td>...</td>\n      <td>Blue</td>\n      <td>True</td>\n      <td>0.875</td>\n      <td>Monster</td>\n      <td>Water_1</td>\n      <td>False</td>\n      <td>0.51</td>\n      <td>9.0</td>\n      <td>45</td>\n      <td>bipedal_tailed</td>\n    </tr>\n    <tr>\n      <th>7</th>\n      <td>8</td>\n      <td>Wartortle</td>\n      <td>Water</td>\n      <td>NaN</td>\n      <td>405</td>\n      <td>59</td>\n      <td>63</td>\n      <td>80</td>\n      <td>65</td>\n      <td>80</td>\n      <td>...</td>\n      <td>Blue</td>\n      <td>True</td>\n      <td>0.875</td>\n      <td>Monster</td>\n      <td>Water_1</td>\n      <td>False</td>\n      <td>0.99</td>\n      <td>22.5</td>\n      <td>45</td>\n      <td>bipedal_tailed</td>\n    </tr>\n    <tr>\n      <th>8</th>\n      <td>9</td>\n      <td>Blastoise</td>\n      <td>Water</td>\n      <td>NaN</td>\n      <td>530</td>\n      <td>79</td>\n      <td>83</td>\n      <td>100</td>\n      <td>85</td>\n      <td>105</td>\n      <td>...</td>\n      <td>Blue</td>\n      <td>True</td>\n      <td>0.875</td>\n      <td>Monster</td>\n      <td>Water_1</td>\n      <td>True</td>\n      <td>1.60</td>\n      <td>85.5</td>\n      <td>45</td>\n      <td>bipedal_tailed</td>\n    </tr>\n    <tr>\n      <th>9</th>\n      <td>10</td>\n      <td>Caterpie</td>\n      <td>Bug</td>\n      <td>NaN</td>\n      <td>195</td>\n      <td>45</td>\n      <td>30</td>\n      <td>35</td>\n      <td>20</td>\n      <td>20</td>\n      <td>...</td>\n      <td>Green</td>\n      <td>True</td>\n      <td>0.500</td>\n      <td>Bug</td>\n      <td>NaN</td>\n      <td>False</td>\n      <td>0.30</td>\n      <td>2.9</td>\n      <td>255</td>\n      <td>insectoid</td>\n    </tr>\n  </tbody>\n</table>\n<p>10 rows × 23 columns</p>\n</div>"
     },
     "execution_count": 16,
     "metadata": {},
     "output_type": "execute_result"
    }
   ],
   "source": [
    "#5.8\n",
    "#3. Print the first 10 entries\n",
    "pokemon.head(10)"
   ],
   "metadata": {
    "collapsed": false,
    "pycharm": {
     "name": "#%%\n"
    }
   }
  },
  {
   "cell_type": "code",
   "execution_count": 17,
   "outputs": [
    {
     "data": {
      "text/plain": "(721, 23)"
     },
     "execution_count": 17,
     "metadata": {},
     "output_type": "execute_result"
    }
   ],
   "source": [
    "pokemon.shape"
   ],
   "metadata": {
    "collapsed": false,
    "pycharm": {
     "name": "#%%\n"
    }
   }
  },
  {
   "cell_type": "code",
   "execution_count": 18,
   "outputs": [
    {
     "data": {
      "text/plain": "Index(['Number', 'Name', 'Type_1', 'Type_2', 'Total', 'HP', 'Attack',\n       'Defense', 'Sp_Atk', 'Sp_Def', 'Speed', 'Generation', 'isLegendary',\n       'Color', 'hasGender', 'Pr_Male', 'Egg_Group_1', 'Egg_Group_2',\n       'hasMegaEvolution', 'Height_m', 'Weight_kg', 'Catch_Rate',\n       'Body_Style'],\n      dtype='object')"
     },
     "execution_count": 18,
     "metadata": {},
     "output_type": "execute_result"
    }
   ],
   "source": [
    "#5.8\n",
    "#4. How many observations and columns are there?\n",
    "pokemon.columns"
   ],
   "metadata": {
    "collapsed": false,
    "pycharm": {
     "name": "#%%\n"
    }
   }
  },
  {
   "cell_type": "code",
   "execution_count": 19,
   "outputs": [
    {
     "name": "stdout",
     "output_type": "stream",
     "text": [
      "<class 'pandas.core.frame.DataFrame'>\n",
      "RangeIndex: 721 entries, 0 to 720\n",
      "Data columns (total 23 columns):\n",
      " #   Column            Non-Null Count  Dtype  \n",
      "---  ------            --------------  -----  \n",
      " 0   Number            721 non-null    int64  \n",
      " 1   Name              721 non-null    object \n",
      " 2   Type_1            721 non-null    object \n",
      " 3   Type_2            350 non-null    object \n",
      " 4   Total             721 non-null    int64  \n",
      " 5   HP                721 non-null    int64  \n",
      " 6   Attack            721 non-null    int64  \n",
      " 7   Defense           721 non-null    int64  \n",
      " 8   Sp_Atk            721 non-null    int64  \n",
      " 9   Sp_Def            721 non-null    int64  \n",
      " 10  Speed             721 non-null    int64  \n",
      " 11  Generation        721 non-null    int64  \n",
      " 12  isLegendary       721 non-null    bool   \n",
      " 13  Color             721 non-null    object \n",
      " 14  hasGender         721 non-null    bool   \n",
      " 15  Pr_Male           644 non-null    float64\n",
      " 16  Egg_Group_1       721 non-null    object \n",
      " 17  Egg_Group_2       191 non-null    object \n",
      " 18  hasMegaEvolution  721 non-null    bool   \n",
      " 19  Height_m          721 non-null    float64\n",
      " 20  Weight_kg         721 non-null    float64\n",
      " 21  Catch_Rate        721 non-null    int64  \n",
      " 22  Body_Style        721 non-null    object \n",
      "dtypes: bool(3), float64(3), int64(10), object(7)\n",
      "memory usage: 114.9+ KB\n"
     ]
    }
   ],
   "source": [
    "#5.8\n",
    "#5.Print the names of all the columns\n",
    "pokemon.info()"
   ],
   "metadata": {
    "collapsed": false,
    "pycharm": {
     "name": "#%%\n"
    }
   }
  },
  {
   "cell_type": "code",
   "execution_count": 20,
   "outputs": [
    {
     "data": {
      "text/plain": "408    165\n288    160\n485    160\n643    150\n382    150\n      ... \n128     10\n212     10\n241     10\n112      5\n439      5\nName: Attack, Length: 721, dtype: int64"
     },
     "execution_count": 20,
     "metadata": {},
     "output_type": "execute_result"
    }
   ],
   "source": [
    "#5.12\n",
    "#3. Sort by attack power from high to low\n",
    "pokemon.Attack.sort_values(ascending=False)"
   ],
   "metadata": {
    "collapsed": false,
    "pycharm": {
     "name": "#%%\n"
    }
   }
  },
  {
   "cell_type": "code",
   "execution_count": 21,
   "outputs": [
    {
     "data": {
      "text/plain": "          count        mean        std   min    25%    50%     75%    max\nType_1                                                                   \nBug        63.0   67.698413  32.223331  30.0  47.50   55.0   85.00  230.0\nDark       28.0   67.928571  23.796870  30.0  50.00   67.5   88.50  115.0\nDragon     24.0   79.125000  22.618408  35.0  63.75   85.0   91.25  121.0\nElectric   36.0   59.083333  20.353132  15.0  40.00   58.5   70.00  115.0\nFairy      17.0   65.705882  18.979478  28.0  50.00   66.0   75.00   95.0\nFighting   25.0   64.280000  18.320116  30.0  53.00   62.0   78.00   95.0\nFire       47.0   64.893617  22.654526  37.0  46.50   60.0   72.00  140.0\nFlying      3.0   61.666667  23.629078  35.0  52.50   70.0   75.00   80.0\nGhost      23.0   75.956522  33.910951  30.0  51.50   65.0   95.00  145.0\nGrass      66.0   69.363636  23.955495  30.0  50.00   65.0   83.00  131.0\nGround     30.0   82.166667  31.893231  25.0  51.25   82.0  108.75  140.0\nIce        23.0   71.043478  35.110835  15.0  47.50   70.0   85.00  184.0\nNormal     93.0   57.795699  22.349282   5.0  43.00   60.0   70.00  120.0\nPoison     28.0   68.821429  21.066128  35.0  52.75   67.0   82.25  120.0\nPsychic    47.0   65.042553  26.159176  15.0  46.50   60.0   75.50  130.0\nRock       41.0   99.756098  36.851581  40.0  70.00  100.0  119.00  200.0\nSteel      22.0  119.409091  33.281854  70.0  96.25  115.5  140.00  200.0\nWater     105.0   70.485714  25.579858  20.0  52.00   68.0   85.00  180.0",
      "text/html": "<div>\n<style scoped>\n    .dataframe tbody tr th:only-of-type {\n        vertical-align: middle;\n    }\n\n    .dataframe tbody tr th {\n        vertical-align: top;\n    }\n\n    .dataframe thead th {\n        text-align: right;\n    }\n</style>\n<table border=\"1\" class=\"dataframe\">\n  <thead>\n    <tr style=\"text-align: right;\">\n      <th></th>\n      <th>count</th>\n      <th>mean</th>\n      <th>std</th>\n      <th>min</th>\n      <th>25%</th>\n      <th>50%</th>\n      <th>75%</th>\n      <th>max</th>\n    </tr>\n    <tr>\n      <th>Type_1</th>\n      <th></th>\n      <th></th>\n      <th></th>\n      <th></th>\n      <th></th>\n      <th></th>\n      <th></th>\n      <th></th>\n    </tr>\n  </thead>\n  <tbody>\n    <tr>\n      <th>Bug</th>\n      <td>63.0</td>\n      <td>67.698413</td>\n      <td>32.223331</td>\n      <td>30.0</td>\n      <td>47.50</td>\n      <td>55.0</td>\n      <td>85.00</td>\n      <td>230.0</td>\n    </tr>\n    <tr>\n      <th>Dark</th>\n      <td>28.0</td>\n      <td>67.928571</td>\n      <td>23.796870</td>\n      <td>30.0</td>\n      <td>50.00</td>\n      <td>67.5</td>\n      <td>88.50</td>\n      <td>115.0</td>\n    </tr>\n    <tr>\n      <th>Dragon</th>\n      <td>24.0</td>\n      <td>79.125000</td>\n      <td>22.618408</td>\n      <td>35.0</td>\n      <td>63.75</td>\n      <td>85.0</td>\n      <td>91.25</td>\n      <td>121.0</td>\n    </tr>\n    <tr>\n      <th>Electric</th>\n      <td>36.0</td>\n      <td>59.083333</td>\n      <td>20.353132</td>\n      <td>15.0</td>\n      <td>40.00</td>\n      <td>58.5</td>\n      <td>70.00</td>\n      <td>115.0</td>\n    </tr>\n    <tr>\n      <th>Fairy</th>\n      <td>17.0</td>\n      <td>65.705882</td>\n      <td>18.979478</td>\n      <td>28.0</td>\n      <td>50.00</td>\n      <td>66.0</td>\n      <td>75.00</td>\n      <td>95.0</td>\n    </tr>\n    <tr>\n      <th>Fighting</th>\n      <td>25.0</td>\n      <td>64.280000</td>\n      <td>18.320116</td>\n      <td>30.0</td>\n      <td>53.00</td>\n      <td>62.0</td>\n      <td>78.00</td>\n      <td>95.0</td>\n    </tr>\n    <tr>\n      <th>Fire</th>\n      <td>47.0</td>\n      <td>64.893617</td>\n      <td>22.654526</td>\n      <td>37.0</td>\n      <td>46.50</td>\n      <td>60.0</td>\n      <td>72.00</td>\n      <td>140.0</td>\n    </tr>\n    <tr>\n      <th>Flying</th>\n      <td>3.0</td>\n      <td>61.666667</td>\n      <td>23.629078</td>\n      <td>35.0</td>\n      <td>52.50</td>\n      <td>70.0</td>\n      <td>75.00</td>\n      <td>80.0</td>\n    </tr>\n    <tr>\n      <th>Ghost</th>\n      <td>23.0</td>\n      <td>75.956522</td>\n      <td>33.910951</td>\n      <td>30.0</td>\n      <td>51.50</td>\n      <td>65.0</td>\n      <td>95.00</td>\n      <td>145.0</td>\n    </tr>\n    <tr>\n      <th>Grass</th>\n      <td>66.0</td>\n      <td>69.363636</td>\n      <td>23.955495</td>\n      <td>30.0</td>\n      <td>50.00</td>\n      <td>65.0</td>\n      <td>83.00</td>\n      <td>131.0</td>\n    </tr>\n    <tr>\n      <th>Ground</th>\n      <td>30.0</td>\n      <td>82.166667</td>\n      <td>31.893231</td>\n      <td>25.0</td>\n      <td>51.25</td>\n      <td>82.0</td>\n      <td>108.75</td>\n      <td>140.0</td>\n    </tr>\n    <tr>\n      <th>Ice</th>\n      <td>23.0</td>\n      <td>71.043478</td>\n      <td>35.110835</td>\n      <td>15.0</td>\n      <td>47.50</td>\n      <td>70.0</td>\n      <td>85.00</td>\n      <td>184.0</td>\n    </tr>\n    <tr>\n      <th>Normal</th>\n      <td>93.0</td>\n      <td>57.795699</td>\n      <td>22.349282</td>\n      <td>5.0</td>\n      <td>43.00</td>\n      <td>60.0</td>\n      <td>70.00</td>\n      <td>120.0</td>\n    </tr>\n    <tr>\n      <th>Poison</th>\n      <td>28.0</td>\n      <td>68.821429</td>\n      <td>21.066128</td>\n      <td>35.0</td>\n      <td>52.75</td>\n      <td>67.0</td>\n      <td>82.25</td>\n      <td>120.0</td>\n    </tr>\n    <tr>\n      <th>Psychic</th>\n      <td>47.0</td>\n      <td>65.042553</td>\n      <td>26.159176</td>\n      <td>15.0</td>\n      <td>46.50</td>\n      <td>60.0</td>\n      <td>75.50</td>\n      <td>130.0</td>\n    </tr>\n    <tr>\n      <th>Rock</th>\n      <td>41.0</td>\n      <td>99.756098</td>\n      <td>36.851581</td>\n      <td>40.0</td>\n      <td>70.00</td>\n      <td>100.0</td>\n      <td>119.00</td>\n      <td>200.0</td>\n    </tr>\n    <tr>\n      <th>Steel</th>\n      <td>22.0</td>\n      <td>119.409091</td>\n      <td>33.281854</td>\n      <td>70.0</td>\n      <td>96.25</td>\n      <td>115.5</td>\n      <td>140.00</td>\n      <td>200.0</td>\n    </tr>\n    <tr>\n      <th>Water</th>\n      <td>105.0</td>\n      <td>70.485714</td>\n      <td>25.579858</td>\n      <td>20.0</td>\n      <td>52.00</td>\n      <td>68.0</td>\n      <td>85.00</td>\n      <td>180.0</td>\n    </tr>\n  </tbody>\n</table>\n</div>"
     },
     "execution_count": 21,
     "metadata": {},
     "output_type": "execute_result"
    }
   ],
   "source": [
    "#5.12\n",
    "#4. Describe the defence power for each Pokemon type\n",
    "typeFilter = pokemon.groupby(\"Type_1\")\n",
    "typeFilter.Defense.describe()"
   ],
   "metadata": {
    "collapsed": false,
    "pycharm": {
     "name": "#%%\n"
    }
   }
  },
  {
   "cell_type": "code",
   "execution_count": 22,
   "outputs": [
    {
     "data": {
      "text/plain": "                mean  min  max  median\nType_1                                \nBug       365.126984  194  600   390.0\nDark      434.750000  220  680   438.0\nDragon    501.958333  300  680   515.0\nElectric  420.694444  205  580   429.5\nFairy     413.176471  218  680   405.0\nFighting  404.360000  210  525   455.0\nFire      443.021277  250  680   460.0\nFlying    453.333333  245  580   535.0\nGhost     423.652174  275  680   455.0\nGrass     409.560606  180  600   409.0\nGround    421.000000  265  670   427.5\nIce       427.086957  250  580   455.0\nNormal    392.161290  190  720   411.0\nPoison    399.142857  245  535   401.5\nPsychic   442.489362  198  680   466.0\nRock      437.804878  280  600   440.0\nSteel     464.909091  300  680   467.5\nWater     417.200000  200  680   430.0",
      "text/html": "<div>\n<style scoped>\n    .dataframe tbody tr th:only-of-type {\n        vertical-align: middle;\n    }\n\n    .dataframe tbody tr th {\n        vertical-align: top;\n    }\n\n    .dataframe thead th {\n        text-align: right;\n    }\n</style>\n<table border=\"1\" class=\"dataframe\">\n  <thead>\n    <tr style=\"text-align: right;\">\n      <th></th>\n      <th>mean</th>\n      <th>min</th>\n      <th>max</th>\n      <th>median</th>\n    </tr>\n    <tr>\n      <th>Type_1</th>\n      <th></th>\n      <th></th>\n      <th></th>\n      <th></th>\n    </tr>\n  </thead>\n  <tbody>\n    <tr>\n      <th>Bug</th>\n      <td>365.126984</td>\n      <td>194</td>\n      <td>600</td>\n      <td>390.0</td>\n    </tr>\n    <tr>\n      <th>Dark</th>\n      <td>434.750000</td>\n      <td>220</td>\n      <td>680</td>\n      <td>438.0</td>\n    </tr>\n    <tr>\n      <th>Dragon</th>\n      <td>501.958333</td>\n      <td>300</td>\n      <td>680</td>\n      <td>515.0</td>\n    </tr>\n    <tr>\n      <th>Electric</th>\n      <td>420.694444</td>\n      <td>205</td>\n      <td>580</td>\n      <td>429.5</td>\n    </tr>\n    <tr>\n      <th>Fairy</th>\n      <td>413.176471</td>\n      <td>218</td>\n      <td>680</td>\n      <td>405.0</td>\n    </tr>\n    <tr>\n      <th>Fighting</th>\n      <td>404.360000</td>\n      <td>210</td>\n      <td>525</td>\n      <td>455.0</td>\n    </tr>\n    <tr>\n      <th>Fire</th>\n      <td>443.021277</td>\n      <td>250</td>\n      <td>680</td>\n      <td>460.0</td>\n    </tr>\n    <tr>\n      <th>Flying</th>\n      <td>453.333333</td>\n      <td>245</td>\n      <td>580</td>\n      <td>535.0</td>\n    </tr>\n    <tr>\n      <th>Ghost</th>\n      <td>423.652174</td>\n      <td>275</td>\n      <td>680</td>\n      <td>455.0</td>\n    </tr>\n    <tr>\n      <th>Grass</th>\n      <td>409.560606</td>\n      <td>180</td>\n      <td>600</td>\n      <td>409.0</td>\n    </tr>\n    <tr>\n      <th>Ground</th>\n      <td>421.000000</td>\n      <td>265</td>\n      <td>670</td>\n      <td>427.5</td>\n    </tr>\n    <tr>\n      <th>Ice</th>\n      <td>427.086957</td>\n      <td>250</td>\n      <td>580</td>\n      <td>455.0</td>\n    </tr>\n    <tr>\n      <th>Normal</th>\n      <td>392.161290</td>\n      <td>190</td>\n      <td>720</td>\n      <td>411.0</td>\n    </tr>\n    <tr>\n      <th>Poison</th>\n      <td>399.142857</td>\n      <td>245</td>\n      <td>535</td>\n      <td>401.5</td>\n    </tr>\n    <tr>\n      <th>Psychic</th>\n      <td>442.489362</td>\n      <td>198</td>\n      <td>680</td>\n      <td>466.0</td>\n    </tr>\n    <tr>\n      <th>Rock</th>\n      <td>437.804878</td>\n      <td>280</td>\n      <td>600</td>\n      <td>440.0</td>\n    </tr>\n    <tr>\n      <th>Steel</th>\n      <td>464.909091</td>\n      <td>300</td>\n      <td>680</td>\n      <td>467.5</td>\n    </tr>\n    <tr>\n      <th>Water</th>\n      <td>417.200000</td>\n      <td>200</td>\n      <td>680</td>\n      <td>430.0</td>\n    </tr>\n  </tbody>\n</table>\n</div>"
     },
     "execution_count": 22,
     "metadata": {},
     "output_type": "execute_result"
    }
   ],
   "source": [
    "#5.12\n",
    "#5. What are the mean, median, max and minimum of the total column for each Pokemon type?\n",
    "typeFilter.Total.agg([\"mean\", \"min\", \"max\", \"median\"])"
   ],
   "metadata": {
    "collapsed": false,
    "pycharm": {
     "name": "#%%\n"
    }
   }
  },
  {
   "cell_type": "code",
   "execution_count": 23,
   "outputs": [
    {
     "data": {
      "text/plain": "Type_1\nWater       105\nNormal       93\nGrass        66\nBug          63\nFire         47\nPsychic      47\nRock         41\nElectric     36\nGround       30\nDark         28\nPoison       28\nFighting     25\nDragon       24\nGhost        23\nIce          23\nSteel        22\nFairy        17\nFlying        3\ndtype: int64"
     },
     "execution_count": 23,
     "metadata": {},
     "output_type": "execute_result"
    }
   ],
   "source": [
    "#5.12\n",
    "#6. What is the most common Pokemon type?\n",
    "pokemon.value_counts(\"Type_1\")"
   ],
   "metadata": {
    "collapsed": false,
    "pycharm": {
     "name": "#%%\n"
    }
   }
  },
  {
   "cell_type": "code",
   "execution_count": 24,
   "outputs": [
    {
     "data": {
      "text/plain": "Number                0\nName                  0\nType_1                0\nType_2              371\nTotal                 0\nHP                    0\nAttack                0\nDefense               0\nSp_Atk                0\nSp_Def                0\nSpeed                 0\nGeneration            0\nisLegendary           0\nColor                 0\nhasGender             0\nPr_Male              77\nEgg_Group_1           0\nEgg_Group_2         530\nhasMegaEvolution      0\nHeight_m              0\nWeight_kg             0\nCatch_Rate            0\nBody_Style            0\ndtype: int64"
     },
     "execution_count": 24,
     "metadata": {},
     "output_type": "execute_result"
    }
   ],
   "source": [
    "#5.17\n",
    "#3. Check if there are missing values\n",
    "#pokemon.isnull().any() #shows us which columns have missing values\n",
    "pokemon.isnull().sum() #shows us count of missing values for each column"
   ],
   "metadata": {
    "collapsed": false,
    "pycharm": {
     "name": "#%%\n"
    }
   }
  },
  {
   "cell_type": "code",
   "execution_count": 25,
   "outputs": [
    {
     "data": {
      "text/plain": "     Number        Name   Type_1  Total   HP  Attack  Defense  Sp_Atk  Sp_Def  \\\n0         1   Bulbasaur    Grass    318   45      49       49      65      65   \n1         2     Ivysaur    Grass    405   60      62       63      80      80   \n2         3    Venusaur    Grass    525   80      82       83     100     100   \n3         4  Charmander     Fire    309   39      52       43      60      50   \n4         5  Charmeleon     Fire    405   58      64       58      80      65   \n..      ...         ...      ...    ...  ...     ...      ...     ...     ...   \n716     717     Yveltal     Dark    680  126     131       95     131      98   \n717     718     Zygarde   Dragon    600  108     100      121      81      95   \n718     719     Diancie     Rock    600   50     100      150     100     150   \n719     720       Hoopa  Psychic    600   80     110       60     150     130   \n720     721   Volcanion     Fire    600   80     110      120     130      90   \n\n     Speed  ...  isLegendary   Color hasGender  Pr_Male   Egg_Group_1  \\\n0       45  ...        False   Green      True    0.875       Monster   \n1       60  ...        False   Green      True    0.875       Monster   \n2       80  ...        False   Green      True    0.875       Monster   \n3       65  ...        False     Red      True    0.875       Monster   \n4       80  ...        False     Red      True    0.875       Monster   \n..     ...  ...          ...     ...       ...      ...           ...   \n716     99  ...         True     Red     False      NaN  Undiscovered   \n717     95  ...         True   Green     False      NaN  Undiscovered   \n718     50  ...         True    Pink     False      NaN  Undiscovered   \n719     70  ...         True  Purple     False      NaN  Undiscovered   \n720     70  ...         True   Brown     False      NaN  Undiscovered   \n\n    hasMegaEvolution  Height_m  Weight_kg  Catch_Rate       Body_Style  \n0              False      0.71        6.9          45        quadruped  \n1              False      0.99       13.0          45        quadruped  \n2               True      2.01      100.0          45        quadruped  \n3              False      0.61        8.5          45   bipedal_tailed  \n4              False      1.09       19.0          45   bipedal_tailed  \n..               ...       ...        ...         ...              ...  \n716            False      5.79      203.0          45        two_wings  \n717            False      5.00      305.0           3  serpentine_body  \n718             True      0.71        8.8           3        head_arms  \n719            False      0.51        9.0           3        head_only  \n720            False      1.70      195.0           3        quadruped  \n\n[721 rows x 21 columns]",
      "text/html": "<div>\n<style scoped>\n    .dataframe tbody tr th:only-of-type {\n        vertical-align: middle;\n    }\n\n    .dataframe tbody tr th {\n        vertical-align: top;\n    }\n\n    .dataframe thead th {\n        text-align: right;\n    }\n</style>\n<table border=\"1\" class=\"dataframe\">\n  <thead>\n    <tr style=\"text-align: right;\">\n      <th></th>\n      <th>Number</th>\n      <th>Name</th>\n      <th>Type_1</th>\n      <th>Total</th>\n      <th>HP</th>\n      <th>Attack</th>\n      <th>Defense</th>\n      <th>Sp_Atk</th>\n      <th>Sp_Def</th>\n      <th>Speed</th>\n      <th>...</th>\n      <th>isLegendary</th>\n      <th>Color</th>\n      <th>hasGender</th>\n      <th>Pr_Male</th>\n      <th>Egg_Group_1</th>\n      <th>hasMegaEvolution</th>\n      <th>Height_m</th>\n      <th>Weight_kg</th>\n      <th>Catch_Rate</th>\n      <th>Body_Style</th>\n    </tr>\n  </thead>\n  <tbody>\n    <tr>\n      <th>0</th>\n      <td>1</td>\n      <td>Bulbasaur</td>\n      <td>Grass</td>\n      <td>318</td>\n      <td>45</td>\n      <td>49</td>\n      <td>49</td>\n      <td>65</td>\n      <td>65</td>\n      <td>45</td>\n      <td>...</td>\n      <td>False</td>\n      <td>Green</td>\n      <td>True</td>\n      <td>0.875</td>\n      <td>Monster</td>\n      <td>False</td>\n      <td>0.71</td>\n      <td>6.9</td>\n      <td>45</td>\n      <td>quadruped</td>\n    </tr>\n    <tr>\n      <th>1</th>\n      <td>2</td>\n      <td>Ivysaur</td>\n      <td>Grass</td>\n      <td>405</td>\n      <td>60</td>\n      <td>62</td>\n      <td>63</td>\n      <td>80</td>\n      <td>80</td>\n      <td>60</td>\n      <td>...</td>\n      <td>False</td>\n      <td>Green</td>\n      <td>True</td>\n      <td>0.875</td>\n      <td>Monster</td>\n      <td>False</td>\n      <td>0.99</td>\n      <td>13.0</td>\n      <td>45</td>\n      <td>quadruped</td>\n    </tr>\n    <tr>\n      <th>2</th>\n      <td>3</td>\n      <td>Venusaur</td>\n      <td>Grass</td>\n      <td>525</td>\n      <td>80</td>\n      <td>82</td>\n      <td>83</td>\n      <td>100</td>\n      <td>100</td>\n      <td>80</td>\n      <td>...</td>\n      <td>False</td>\n      <td>Green</td>\n      <td>True</td>\n      <td>0.875</td>\n      <td>Monster</td>\n      <td>True</td>\n      <td>2.01</td>\n      <td>100.0</td>\n      <td>45</td>\n      <td>quadruped</td>\n    </tr>\n    <tr>\n      <th>3</th>\n      <td>4</td>\n      <td>Charmander</td>\n      <td>Fire</td>\n      <td>309</td>\n      <td>39</td>\n      <td>52</td>\n      <td>43</td>\n      <td>60</td>\n      <td>50</td>\n      <td>65</td>\n      <td>...</td>\n      <td>False</td>\n      <td>Red</td>\n      <td>True</td>\n      <td>0.875</td>\n      <td>Monster</td>\n      <td>False</td>\n      <td>0.61</td>\n      <td>8.5</td>\n      <td>45</td>\n      <td>bipedal_tailed</td>\n    </tr>\n    <tr>\n      <th>4</th>\n      <td>5</td>\n      <td>Charmeleon</td>\n      <td>Fire</td>\n      <td>405</td>\n      <td>58</td>\n      <td>64</td>\n      <td>58</td>\n      <td>80</td>\n      <td>65</td>\n      <td>80</td>\n      <td>...</td>\n      <td>False</td>\n      <td>Red</td>\n      <td>True</td>\n      <td>0.875</td>\n      <td>Monster</td>\n      <td>False</td>\n      <td>1.09</td>\n      <td>19.0</td>\n      <td>45</td>\n      <td>bipedal_tailed</td>\n    </tr>\n    <tr>\n      <th>...</th>\n      <td>...</td>\n      <td>...</td>\n      <td>...</td>\n      <td>...</td>\n      <td>...</td>\n      <td>...</td>\n      <td>...</td>\n      <td>...</td>\n      <td>...</td>\n      <td>...</td>\n      <td>...</td>\n      <td>...</td>\n      <td>...</td>\n      <td>...</td>\n      <td>...</td>\n      <td>...</td>\n      <td>...</td>\n      <td>...</td>\n      <td>...</td>\n      <td>...</td>\n      <td>...</td>\n    </tr>\n    <tr>\n      <th>716</th>\n      <td>717</td>\n      <td>Yveltal</td>\n      <td>Dark</td>\n      <td>680</td>\n      <td>126</td>\n      <td>131</td>\n      <td>95</td>\n      <td>131</td>\n      <td>98</td>\n      <td>99</td>\n      <td>...</td>\n      <td>True</td>\n      <td>Red</td>\n      <td>False</td>\n      <td>NaN</td>\n      <td>Undiscovered</td>\n      <td>False</td>\n      <td>5.79</td>\n      <td>203.0</td>\n      <td>45</td>\n      <td>two_wings</td>\n    </tr>\n    <tr>\n      <th>717</th>\n      <td>718</td>\n      <td>Zygarde</td>\n      <td>Dragon</td>\n      <td>600</td>\n      <td>108</td>\n      <td>100</td>\n      <td>121</td>\n      <td>81</td>\n      <td>95</td>\n      <td>95</td>\n      <td>...</td>\n      <td>True</td>\n      <td>Green</td>\n      <td>False</td>\n      <td>NaN</td>\n      <td>Undiscovered</td>\n      <td>False</td>\n      <td>5.00</td>\n      <td>305.0</td>\n      <td>3</td>\n      <td>serpentine_body</td>\n    </tr>\n    <tr>\n      <th>718</th>\n      <td>719</td>\n      <td>Diancie</td>\n      <td>Rock</td>\n      <td>600</td>\n      <td>50</td>\n      <td>100</td>\n      <td>150</td>\n      <td>100</td>\n      <td>150</td>\n      <td>50</td>\n      <td>...</td>\n      <td>True</td>\n      <td>Pink</td>\n      <td>False</td>\n      <td>NaN</td>\n      <td>Undiscovered</td>\n      <td>True</td>\n      <td>0.71</td>\n      <td>8.8</td>\n      <td>3</td>\n      <td>head_arms</td>\n    </tr>\n    <tr>\n      <th>719</th>\n      <td>720</td>\n      <td>Hoopa</td>\n      <td>Psychic</td>\n      <td>600</td>\n      <td>80</td>\n      <td>110</td>\n      <td>60</td>\n      <td>150</td>\n      <td>130</td>\n      <td>70</td>\n      <td>...</td>\n      <td>True</td>\n      <td>Purple</td>\n      <td>False</td>\n      <td>NaN</td>\n      <td>Undiscovered</td>\n      <td>False</td>\n      <td>0.51</td>\n      <td>9.0</td>\n      <td>3</td>\n      <td>head_only</td>\n    </tr>\n    <tr>\n      <th>720</th>\n      <td>721</td>\n      <td>Volcanion</td>\n      <td>Fire</td>\n      <td>600</td>\n      <td>80</td>\n      <td>110</td>\n      <td>120</td>\n      <td>130</td>\n      <td>90</td>\n      <td>70</td>\n      <td>...</td>\n      <td>True</td>\n      <td>Brown</td>\n      <td>False</td>\n      <td>NaN</td>\n      <td>Undiscovered</td>\n      <td>False</td>\n      <td>1.70</td>\n      <td>195.0</td>\n      <td>3</td>\n      <td>quadruped</td>\n    </tr>\n  </tbody>\n</table>\n<p>721 rows × 21 columns</p>\n</div>"
     },
     "execution_count": 25,
     "metadata": {},
     "output_type": "execute_result"
    }
   ],
   "source": [
    "#5.17\n",
    "#4. Remove the Type_2 and Egg_Group_2 columns\n",
    "pokemon = pokemon.drop(\"Type_2\", axis=1)\n",
    "pokemon = pokemon.drop(\"Egg_Group_2\", axis=1)\n",
    "pokemon"
   ],
   "metadata": {
    "collapsed": false,
    "pycharm": {
     "name": "#%%\n"
    }
   }
  },
  {
   "cell_type": "code",
   "execution_count": 26,
   "outputs": [
    {
     "data": {
      "text/plain": "     Number        Name  Type_1  Total  HP  Attack  Defense  Sp_Atk  Sp_Def  \\\n0         1   Bulbasaur   Grass    318  45      49       49      65      65   \n1         2     Ivysaur   Grass    405  60      62       63      80      80   \n2         3    Venusaur   Grass    525  80      82       83     100     100   \n3         4  Charmander    Fire    309  39      52       43      60      50   \n4         5  Charmeleon    Fire    405  58      64       58      80      65   \n..      ...         ...     ...    ...  ..     ...      ...     ...     ...   \n710     711   Gourgeist   Ghost    494  65      90      122      58      75   \n711     712    Bergmite     Ice    304  55      69       85      32      35   \n712     713     Avalugg     Ice    514  95     117      184      44      46   \n713     714      Noibat  Flying    245  40      30       35      45      40   \n714     715     Noivern  Flying    535  85      70       80      97      80   \n\n     Speed  ...  isLegendary   Color hasGender  Pr_Male  Egg_Group_1  \\\n0       45  ...        False   Green      True    0.875      Monster   \n1       60  ...        False   Green      True    0.875      Monster   \n2       80  ...        False   Green      True    0.875      Monster   \n3       65  ...        False     Red      True    0.875      Monster   \n4       80  ...        False     Red      True    0.875      Monster   \n..     ...  ...          ...     ...       ...      ...          ...   \n710     84  ...        False   Brown      True    0.500    Amorphous   \n711     28  ...        False    Blue      True    0.500      Monster   \n712     28  ...        False    Blue      True    0.500      Monster   \n713     55  ...        False  Purple      True    0.500       Flying   \n714    123  ...        False  Purple      True    0.500       Flying   \n\n    hasMegaEvolution  Height_m  Weight_kg  Catch_Rate      Body_Style  \n0              False      0.71        6.9          45       quadruped  \n1              False      0.99       13.0          45       quadruped  \n2               True      2.01      100.0          45       quadruped  \n3              False      0.61        8.5          45  bipedal_tailed  \n4              False      1.09       19.0          45  bipedal_tailed  \n..               ...       ...        ...         ...             ...  \n710            False      1.70       39.0          60       head_base  \n711            False      0.99       99.5         190       quadruped  \n712            False      2.01      505.0          55       quadruped  \n713            False      0.51        8.0         190       two_wings  \n714            False      1.50       85.0          45       two_wings  \n\n[644 rows x 21 columns]",
      "text/html": "<div>\n<style scoped>\n    .dataframe tbody tr th:only-of-type {\n        vertical-align: middle;\n    }\n\n    .dataframe tbody tr th {\n        vertical-align: top;\n    }\n\n    .dataframe thead th {\n        text-align: right;\n    }\n</style>\n<table border=\"1\" class=\"dataframe\">\n  <thead>\n    <tr style=\"text-align: right;\">\n      <th></th>\n      <th>Number</th>\n      <th>Name</th>\n      <th>Type_1</th>\n      <th>Total</th>\n      <th>HP</th>\n      <th>Attack</th>\n      <th>Defense</th>\n      <th>Sp_Atk</th>\n      <th>Sp_Def</th>\n      <th>Speed</th>\n      <th>...</th>\n      <th>isLegendary</th>\n      <th>Color</th>\n      <th>hasGender</th>\n      <th>Pr_Male</th>\n      <th>Egg_Group_1</th>\n      <th>hasMegaEvolution</th>\n      <th>Height_m</th>\n      <th>Weight_kg</th>\n      <th>Catch_Rate</th>\n      <th>Body_Style</th>\n    </tr>\n  </thead>\n  <tbody>\n    <tr>\n      <th>0</th>\n      <td>1</td>\n      <td>Bulbasaur</td>\n      <td>Grass</td>\n      <td>318</td>\n      <td>45</td>\n      <td>49</td>\n      <td>49</td>\n      <td>65</td>\n      <td>65</td>\n      <td>45</td>\n      <td>...</td>\n      <td>False</td>\n      <td>Green</td>\n      <td>True</td>\n      <td>0.875</td>\n      <td>Monster</td>\n      <td>False</td>\n      <td>0.71</td>\n      <td>6.9</td>\n      <td>45</td>\n      <td>quadruped</td>\n    </tr>\n    <tr>\n      <th>1</th>\n      <td>2</td>\n      <td>Ivysaur</td>\n      <td>Grass</td>\n      <td>405</td>\n      <td>60</td>\n      <td>62</td>\n      <td>63</td>\n      <td>80</td>\n      <td>80</td>\n      <td>60</td>\n      <td>...</td>\n      <td>False</td>\n      <td>Green</td>\n      <td>True</td>\n      <td>0.875</td>\n      <td>Monster</td>\n      <td>False</td>\n      <td>0.99</td>\n      <td>13.0</td>\n      <td>45</td>\n      <td>quadruped</td>\n    </tr>\n    <tr>\n      <th>2</th>\n      <td>3</td>\n      <td>Venusaur</td>\n      <td>Grass</td>\n      <td>525</td>\n      <td>80</td>\n      <td>82</td>\n      <td>83</td>\n      <td>100</td>\n      <td>100</td>\n      <td>80</td>\n      <td>...</td>\n      <td>False</td>\n      <td>Green</td>\n      <td>True</td>\n      <td>0.875</td>\n      <td>Monster</td>\n      <td>True</td>\n      <td>2.01</td>\n      <td>100.0</td>\n      <td>45</td>\n      <td>quadruped</td>\n    </tr>\n    <tr>\n      <th>3</th>\n      <td>4</td>\n      <td>Charmander</td>\n      <td>Fire</td>\n      <td>309</td>\n      <td>39</td>\n      <td>52</td>\n      <td>43</td>\n      <td>60</td>\n      <td>50</td>\n      <td>65</td>\n      <td>...</td>\n      <td>False</td>\n      <td>Red</td>\n      <td>True</td>\n      <td>0.875</td>\n      <td>Monster</td>\n      <td>False</td>\n      <td>0.61</td>\n      <td>8.5</td>\n      <td>45</td>\n      <td>bipedal_tailed</td>\n    </tr>\n    <tr>\n      <th>4</th>\n      <td>5</td>\n      <td>Charmeleon</td>\n      <td>Fire</td>\n      <td>405</td>\n      <td>58</td>\n      <td>64</td>\n      <td>58</td>\n      <td>80</td>\n      <td>65</td>\n      <td>80</td>\n      <td>...</td>\n      <td>False</td>\n      <td>Red</td>\n      <td>True</td>\n      <td>0.875</td>\n      <td>Monster</td>\n      <td>False</td>\n      <td>1.09</td>\n      <td>19.0</td>\n      <td>45</td>\n      <td>bipedal_tailed</td>\n    </tr>\n    <tr>\n      <th>...</th>\n      <td>...</td>\n      <td>...</td>\n      <td>...</td>\n      <td>...</td>\n      <td>...</td>\n      <td>...</td>\n      <td>...</td>\n      <td>...</td>\n      <td>...</td>\n      <td>...</td>\n      <td>...</td>\n      <td>...</td>\n      <td>...</td>\n      <td>...</td>\n      <td>...</td>\n      <td>...</td>\n      <td>...</td>\n      <td>...</td>\n      <td>...</td>\n      <td>...</td>\n      <td>...</td>\n    </tr>\n    <tr>\n      <th>710</th>\n      <td>711</td>\n      <td>Gourgeist</td>\n      <td>Ghost</td>\n      <td>494</td>\n      <td>65</td>\n      <td>90</td>\n      <td>122</td>\n      <td>58</td>\n      <td>75</td>\n      <td>84</td>\n      <td>...</td>\n      <td>False</td>\n      <td>Brown</td>\n      <td>True</td>\n      <td>0.500</td>\n      <td>Amorphous</td>\n      <td>False</td>\n      <td>1.70</td>\n      <td>39.0</td>\n      <td>60</td>\n      <td>head_base</td>\n    </tr>\n    <tr>\n      <th>711</th>\n      <td>712</td>\n      <td>Bergmite</td>\n      <td>Ice</td>\n      <td>304</td>\n      <td>55</td>\n      <td>69</td>\n      <td>85</td>\n      <td>32</td>\n      <td>35</td>\n      <td>28</td>\n      <td>...</td>\n      <td>False</td>\n      <td>Blue</td>\n      <td>True</td>\n      <td>0.500</td>\n      <td>Monster</td>\n      <td>False</td>\n      <td>0.99</td>\n      <td>99.5</td>\n      <td>190</td>\n      <td>quadruped</td>\n    </tr>\n    <tr>\n      <th>712</th>\n      <td>713</td>\n      <td>Avalugg</td>\n      <td>Ice</td>\n      <td>514</td>\n      <td>95</td>\n      <td>117</td>\n      <td>184</td>\n      <td>44</td>\n      <td>46</td>\n      <td>28</td>\n      <td>...</td>\n      <td>False</td>\n      <td>Blue</td>\n      <td>True</td>\n      <td>0.500</td>\n      <td>Monster</td>\n      <td>False</td>\n      <td>2.01</td>\n      <td>505.0</td>\n      <td>55</td>\n      <td>quadruped</td>\n    </tr>\n    <tr>\n      <th>713</th>\n      <td>714</td>\n      <td>Noibat</td>\n      <td>Flying</td>\n      <td>245</td>\n      <td>40</td>\n      <td>30</td>\n      <td>35</td>\n      <td>45</td>\n      <td>40</td>\n      <td>55</td>\n      <td>...</td>\n      <td>False</td>\n      <td>Purple</td>\n      <td>True</td>\n      <td>0.500</td>\n      <td>Flying</td>\n      <td>False</td>\n      <td>0.51</td>\n      <td>8.0</td>\n      <td>190</td>\n      <td>two_wings</td>\n    </tr>\n    <tr>\n      <th>714</th>\n      <td>715</td>\n      <td>Noivern</td>\n      <td>Flying</td>\n      <td>535</td>\n      <td>85</td>\n      <td>70</td>\n      <td>80</td>\n      <td>97</td>\n      <td>80</td>\n      <td>123</td>\n      <td>...</td>\n      <td>False</td>\n      <td>Purple</td>\n      <td>True</td>\n      <td>0.500</td>\n      <td>Flying</td>\n      <td>False</td>\n      <td>1.50</td>\n      <td>85.0</td>\n      <td>45</td>\n      <td>two_wings</td>\n    </tr>\n  </tbody>\n</table>\n<p>644 rows × 21 columns</p>\n</div>"
     },
     "execution_count": 26,
     "metadata": {},
     "output_type": "execute_result"
    }
   ],
   "source": [
    "#5.17\n",
    "#5. Drop any rows that have null values\n",
    "pokemon = pokemon.dropna()\n",
    "pokemon"
   ],
   "metadata": {
    "collapsed": false,
    "pycharm": {
     "name": "#%%\n"
    }
   }
  }
 ],
 "metadata": {
  "kernelspec": {
   "display_name": "Python 3",
   "language": "python",
   "name": "python3"
  },
  "language_info": {
   "codemirror_mode": {
    "name": "ipython",
    "version": 2
   },
   "file_extension": ".py",
   "mimetype": "text/x-python",
   "name": "python",
   "nbconvert_exporter": "python",
   "pygments_lexer": "ipython2",
   "version": "2.7.6"
  }
 },
 "nbformat": 4,
 "nbformat_minor": 0
}